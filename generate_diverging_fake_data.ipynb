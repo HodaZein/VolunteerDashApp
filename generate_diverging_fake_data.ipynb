{
 "cells": [
  {
   "cell_type": "code",
   "execution_count": 2,
   "id": "b192bf46",
   "metadata": {},
   "outputs": [],
   "source": [
    "import json\n",
    "import random\n",
    "\n",
    "# Replace this with your actual data list (list of dicts from 2022)\n",
    "with open(\"assets/volunteering_motivations_barriers_2022.json\", \"r\", encoding=\"utf-8\") as f:\n",
    "    base_data = json.load(f)\n",
    "\n",
    "years = {\n",
    "    2022: 0.0,\n",
    "    2016: 2.5,\n",
    "    2012: 5.0,\n",
    "    2002: 7.5\n",
    "}\n",
    "\n",
    "def apply_noise(entry, year, noise_level):\n",
    "    new_entry = entry.copy()\n",
    "    new_entry[\"year\"] = year\n",
    "\n",
    "    if noise_level == 0:\n",
    "        return new_entry\n",
    "\n",
    "    perc_fields = [\"fully_agree\", \"rather_agree\", \"rather_disagree\", \"not_at_all\"]\n",
    "    vals = [entry[f] for f in perc_fields]\n",
    "    vals = [\n",
    "        max(0, min(100, v + random.uniform(-noise_level, noise_level)))\n",
    "        for v in vals\n",
    "    ]\n",
    "    total = sum(vals)\n",
    "    vals = [round(v / total * 100, 1) for v in vals]\n",
    "    for i, key in enumerate(perc_fields):\n",
    "        new_entry[key] = vals[i]\n",
    "    return new_entry\n",
    "\n",
    "output = []\n",
    "for year, noise in years.items():\n",
    "    for entry in base_data:\n",
    "        output.append(apply_noise(entry, year, noise))\n",
    "\n",
    "with open(\"motivations_barriers_fake_data.json\", \"w\", encoding=\"utf-8\") as f:\n",
    "    json.dump(output, f, ensure_ascii=False, indent=2)\n"
   ]
  }
 ],
 "metadata": {
  "kernelspec": {
   "display_name": "Python 3",
   "language": "python",
   "name": "python3"
  },
  "language_info": {
   "codemirror_mode": {
    "name": "ipython",
    "version": 3
   },
   "file_extension": ".py",
   "mimetype": "text/x-python",
   "name": "python",
   "nbconvert_exporter": "python",
   "pygments_lexer": "ipython3",
   "version": "3.12.2"
  }
 },
 "nbformat": 4,
 "nbformat_minor": 5
}
