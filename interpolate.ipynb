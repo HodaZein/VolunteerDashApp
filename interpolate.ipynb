{
 "cells": [
  {
   "cell_type": "code",
   "execution_count": 1,
   "id": "33d2c4dc",
   "metadata": {},
   "outputs": [
    {
     "name": "stdout",
     "output_type": "stream",
     "text": [
      "Requirement already satisfied: numpy in c:\\users\\compumarts\\appdata\\local\\programs\\python\\python312\\lib\\site-packages (2.2.3)\n",
      "Note: you may need to restart the kernel to use updated packages.\n"
     ]
    },
    {
     "name": "stderr",
     "output_type": "stream",
     "text": [
      "\n",
      "[notice] A new release of pip is available: 24.0 -> 25.1\n",
      "[notice] To update, run: python.exe -m pip install --upgrade pip\n"
     ]
    }
   ],
   "source": [
    "pip install numpy"
   ]
  },
  {
   "cell_type": "code",
   "execution_count": 4,
   "id": "f6893d82",
   "metadata": {},
   "outputs": [
    {
     "name": "stdout",
     "output_type": "stream",
     "text": [
      "Done! File 'volunteering_time_series_fake.json' created.\n"
     ]
    }
   ],
   "source": [
    "import json\n",
    "import copy\n",
    "import numpy as np\n",
    "\n",
    "# Years you want in your time series\n",
    "years = [1988, 1991, 1994, 1997, 2000, 2003, 2006, 2012, 2016, 2022]\n",
    "base_year = 2022\n",
    "\n",
    "# Load your 2022 data\n",
    "with open('assets/volunteering_austria_2022.json', 'r', encoding='utf-8') as f:\n",
    "    base_data = json.load(f)\n",
    "\n",
    "# Function to make \"plausible\" values for each past year\n",
    "def generate_value(val_2022, year_idx, total_steps, noise=0.03):\n",
    "    # Let's assume value in 1988 is 70% of 2022, linearly interpolated up to 2022\n",
    "    base_val = val_2022 * (0.7 + 0.3 * (year_idx/total_steps))\n",
    "    # Add a small random noise for realism\n",
    "    return round(base_val * np.random.uniform(1 - noise, 1 + noise), 1)\n",
    "\n",
    "# Create the full dataset\n",
    "full_data = []\n",
    "n_years = len(years) - 1  # 2022 is the last (highest) year\n",
    "\n",
    "for rec in base_data:\n",
    "    for i, year in enumerate(years):\n",
    "        if year == 2022:\n",
    "            # Use actual 2022 data as-is\n",
    "            new_rec = copy.deepcopy(rec)\n",
    "            new_rec['year'] = year\n",
    "            full_data.append(new_rec)\n",
    "        else:\n",
    "            new_rec = copy.deepcopy(rec)\n",
    "            new_rec['year'] = year\n",
    "            # For every numeric field except 'year', apply the generator\n",
    "            for key, value in rec.items():\n",
    "                if key == 'year':\n",
    "                    continue\n",
    "                if isinstance(value, (int, float)):\n",
    "                    new_rec[key] = generate_value(value, i, n_years)\n",
    "            full_data.append(new_rec)\n",
    "\n",
    "# Save as a new JSON file\n",
    "with open('volunteering_time_series_fake.json', 'w', encoding='utf-8') as f:\n",
    "    json.dump(full_data, f, ensure_ascii=False, indent=2)\n",
    "\n",
    "print(\"Done! File 'volunteering_time_series_fake.json' created.\")\n"
   ]
  }
 ],
 "metadata": {
  "kernelspec": {
   "display_name": "Python 3",
   "language": "python",
   "name": "python3"
  },
  "language_info": {
   "codemirror_mode": {
    "name": "ipython",
    "version": 3
   },
   "file_extension": ".py",
   "mimetype": "text/x-python",
   "name": "python",
   "nbconvert_exporter": "python",
   "pygments_lexer": "ipython3",
   "version": "3.12.2"
  }
 },
 "nbformat": 4,
 "nbformat_minor": 5
}
