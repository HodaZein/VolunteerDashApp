{
 "cells": [
  {
   "cell_type": "code",
   "execution_count": null,
   "id": "c99b1541",
   "metadata": {},
   "outputs": [
    {
     "name": "stdout",
     "output_type": "stream",
     "text": [
      "Multi-year data saved to assets/boxplots_data_multiyear.json\n"
     ]
    }
   ],
   "source": [
    "import json\n",
    "import numpy as np\n",
    "\n",
    "# Load your 2022 data\n",
    "with open(\"assets/errorBars_data_2022.json\", \"r\", encoding=\"utf-8\") as f:\n",
    "    data_2022 = json.load(f)\n",
    "\n",
    "years = [2006, 2012, 2016]\n",
    "full_data = {\"2022\": data_2022[\"DemographicCategory\"]}\n",
    "\n",
    "# Function to generate fake year data\n",
    "def generate_fake_records(records):\n",
    "    new_records = []\n",
    "    for rec in records:\n",
    "        scale_total = np.random.uniform(0.85, 1.15)\n",
    "        new_persons = round(rec[\"persons_1000\"] * scale_total, 1)\n",
    "\n",
    "        scale_avg = np.random.uniform(0.9, 1.1)\n",
    "        new_avg = round(rec[\"avg_hours\"] * scale_avg, 2)\n",
    "\n",
    "        new_percentiles = {}\n",
    "        for p in [\"percentile_25\", \"percentile_50\", \"percentile_75\"]:\n",
    "            original = rec[p]\n",
    "            noise = np.random.uniform(0.9, 1.1)\n",
    "            new_value = round(original * noise, 2)\n",
    "            new_percentiles[p] = max(new_value, 0)\n",
    "\n",
    "        new_rec = {\n",
    "            \"category_value\": rec[\"category_value\"],\n",
    "            \"volunteering_type\": rec[\"volunteering_type\"],\n",
    "            \"persons_1000\": new_persons,\n",
    "            \"avg_hours\": new_avg,\n",
    "            **new_percentiles\n",
    "        }\n",
    "        new_records.append(new_rec)\n",
    "    return new_records\n",
    "\n",
    "# Generate data for other years\n",
    "for year in years:\n",
    "    year_data = {}\n",
    "    for category, records in data_2022[\"DemographicCategory\"].items():\n",
    "        year_data[category] = generate_fake_records(records)\n",
    "    full_data[str(year)] = year_data\n",
    "\n",
    "# Save as new JSON\n",
    "output_file = \"assets/errorBars_data_multiyear.json\"\n",
    "with open(output_file, \"w\", encoding=\"utf-8\") as f:\n",
    "    json.dump(full_data, f, indent=2, ensure_ascii=False)\n",
    "\n",
    "print(f\"Multi-year data saved to {output_file}\")\n"
   ]
  }
 ],
 "metadata": {
  "kernelspec": {
   "display_name": "Python 3",
   "language": "python",
   "name": "python3"
  },
  "language_info": {
   "codemirror_mode": {
    "name": "ipython",
    "version": 3
   },
   "file_extension": ".py",
   "mimetype": "text/x-python",
   "name": "python",
   "nbconvert_exporter": "python",
   "pygments_lexer": "ipython3",
   "version": "3.12.2"
  }
 },
 "nbformat": 4,
 "nbformat_minor": 5
}
