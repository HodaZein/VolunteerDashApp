{
 "cells": [
  {
   "cell_type": "code",
   "execution_count": null,
   "id": "343e9633",
   "metadata": {},
   "outputs": [
    {
     "name": "stdout",
     "output_type": "stream",
     "text": [
      "Saved to assets/gender_comparison_data_multiyear.json\n"
     ]
    }
   ],
   "source": [
    "import json\n",
    "import numpy as np\n",
    "\n",
    "# Load your cleaned 2022 JSON file\n",
    "with open(\"assets/gender_comparison_data_2022.json\", \"r\", encoding=\"utf-8\") as f:\n",
    "    data_2022 = json.load(f)\n",
    "\n",
    "# Define target years\n",
    "years = [2006, 2012, 2016]\n",
    "output_data = {}\n",
    "\n",
    "# Add 2022 as-is\n",
    "output_data[\"2022\"] = data_2022\n",
    "\n",
    "# Helper function to generate fake year data\n",
    "def generate_year_data(section_data):\n",
    "    fake_section = []\n",
    "    for item in section_data:\n",
    "        # Determine keys to keep for identification\n",
    "        key_name = None\n",
    "        if \"num_orgs\" in item:\n",
    "            key_name = \"num_orgs\"\n",
    "        elif \"task\" in item:\n",
    "            key_name = \"task\"\n",
    "        elif \"area\" in item:\n",
    "            key_name = \"area\"\n",
    "        elif \"hours_range/week\" in item:\n",
    "            key_name = \"hours_range/week\"\n",
    "\n",
    "        # Total in 2022\n",
    "        men_2022 = item[\"men_count\"]\n",
    "        women_2022 = item[\"women_count\"]\n",
    "        total_2022 = men_2022 + women_2022\n",
    "\n",
    "        # Scale total up or down randomly\n",
    "        scale = np.random.uniform(0.85, 1.15)\n",
    "        total_new = round(total_2022 * scale, 1)\n",
    "\n",
    "        # Adjust male percentage slightly\n",
    "        men_perc_2022 = item[\"men_perc\"]\n",
    "        variation = np.random.uniform(-5, 5)\n",
    "        men_perc_new = np.clip(men_perc_2022 + variation, 5, 95)\n",
    "        women_perc_new = 100 - men_perc_new\n",
    "\n",
    "        # Compute new counts\n",
    "        men_new = round(total_new * men_perc_new / 100, 1)\n",
    "        women_new = round(total_new * women_perc_new / 100, 1)\n",
    "\n",
    "        # Store new record\n",
    "        new_item = {\n",
    "            key_name: item[key_name],\n",
    "            \"men_count\": men_new,\n",
    "            \"men_perc\": round(men_perc_new, 1),\n",
    "            \"women_count\": women_new,\n",
    "            \"women_perc\": round(women_perc_new, 1)\n",
    "        }\n",
    "        fake_section.append(new_item)\n",
    "\n",
    "    return fake_section\n",
    "\n",
    "# Loop over each target year\n",
    "for year in years:\n",
    "    year_data = {}\n",
    "    for section_name, section_content in data_2022.items():\n",
    "        year_data[section_name] = generate_year_data(section_content)\n",
    "    output_data[str(year)] = year_data\n",
    "\n",
    "# Save to new JSON\n",
    "output_path = \"assets/gender_comparison_data_multiyear.json\"\n",
    "with open(output_path, \"w\", encoding=\"utf-8\") as f:\n",
    "    json.dump(output_data, f, indent=2, ensure_ascii=False)\n",
    "\n",
    "print(f\"Saved to {output_path}\")\n"
   ]
  }
 ],
 "metadata": {
  "kernelspec": {
   "display_name": "Python 3",
   "language": "python",
   "name": "python3"
  },
  "language_info": {
   "codemirror_mode": {
    "name": "ipython",
    "version": 3
   },
   "file_extension": ".py",
   "mimetype": "text/x-python",
   "name": "python",
   "nbconvert_exporter": "python",
   "pygments_lexer": "ipython3",
   "version": "3.12.2"
  }
 },
 "nbformat": 4,
 "nbformat_minor": 5
}
